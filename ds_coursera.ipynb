{
 "cells": [
  {
   "cell_type": "markdown",
   "id": "0e5d88c9-1232-40ec-8676-a402dd162ed1",
   "metadata": {},
   "source": [
    "# DATA SCIENCE NOTEBOOK"
   ]
  },
  {
   "cell_type": "markdown",
   "id": "6618e11b-bd4a-42fa-83f3-b58751957adf",
   "metadata": {},
   "source": [
    "## Introduction\n",
    "This notebook contains exercises related to data science, including the use of various languages, libraries, and tools. It also includes some basic arithmetic operations.\n"
   ]
  },
  {
   "cell_type": "markdown",
   "id": "6a90c2c8-0f98-40fc-92f8-e1db040c59b0",
   "metadata": {},
   "source": [
    "## Data Science Languages\n",
    "- Python\n",
    "- R\n",
    "- SQL\n",
    "- Julia\n",
    "- Scala\n"
   ]
  },
  {
   "cell_type": "markdown",
   "id": "2427981f-0bcc-4f65-befc-61eca9521b9a",
   "metadata": {},
   "source": [
    "## Data Science Libraries\n",
    "- Pandas\n",
    "- NumPy\n",
    "- Matplotlib\n",
    "- Scikit-learn\n",
    "- TensorFlow\n",
    "- Keras\n",
    "- PyTorch\n"
   ]
  },
  {
   "cell_type": "markdown",
   "id": "e9507d82-7b2b-4734-923b-a63d87c213e1",
   "metadata": {},
   "source": [
    "## Data Science Tools\n",
    "\n",
    "| Tool            | Description                                        |\n",
    "|-----------------|----------------------------------------------------|\n",
    "| Jupyter Notebook| Interactive computing environment                  |\n",
    "| RStudio         | Integrated development environment for R           |\n",
    "| Apache Spark    | Distributed computing system                       |\n",
    "| Tableau         | Data visualization tool                            |\n",
    "| MATLAB          | Numerical computing environment                    |\n"
   ]
  },
  {
   "cell_type": "markdown",
   "id": "14708ef2-1832-488f-b18a-711fa331b563",
   "metadata": {},
   "source": [
    "## Arithmetic Expression Examples\n",
    "Below are examples of basic arithmetic operations like addition and multiplication.\n"
   ]
  },
  {
   "cell_type": "code",
   "execution_count": 11,
   "id": "d942cfbd-c5c1-44ae-aebd-0664ed9758b4",
   "metadata": {},
   "outputs": [
    {
     "data": {
      "text/plain": [
       "17"
      ]
     },
     "execution_count": 11,
     "metadata": {},
     "output_type": "execute_result"
    }
   ],
   "source": [
    "# Example of multiplication and addition\n",
    "result = (3 * 4) + 5\n",
    "result\n"
   ]
  },
  {
   "cell_type": "markdown",
   "id": "698a60bf-0323-4a4d-ad56-16ee21d8beca",
   "metadata": {},
   "source": [
    "## Objectives\n",
    "- Understand basic data science languages and tools.\n",
    "- Perform basic arithmetic operations in Python.\n",
    "- Learn how to create and format markdown cells.\n"
   ]
  },
  {
   "cell_type": "markdown",
   "id": "f48c2a96-2fe1-497d-9374-b441fb454ddd",
   "metadata": {},
   "source": [
    "## Author\n",
    "Arun Reddy\n"
   ]
  },
  {
   "cell_type": "code",
   "execution_count": null,
   "id": "d73d078c-3f35-4efe-8f67-6e157881023c",
   "metadata": {},
   "outputs": [],
   "source": []
  }
 ],
 "metadata": {
  "kernelspec": {
   "display_name": "Python 3 (ipykernel)",
   "language": "python",
   "name": "python3"
  },
  "language_info": {
   "codemirror_mode": {
    "name": "ipython",
    "version": 3
   },
   "file_extension": ".py",
   "mimetype": "text/x-python",
   "name": "python",
   "nbconvert_exporter": "python",
   "pygments_lexer": "ipython3",
   "version": "3.12.4"
  }
 },
 "nbformat": 4,
 "nbformat_minor": 5
}
