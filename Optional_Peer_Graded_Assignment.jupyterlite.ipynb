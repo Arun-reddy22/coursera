{
  "metadata": {
    "kernelspec": {
      "name": "python",
      "display_name": "Python (Pyodide)",
      "language": "python"
    },
    "language_info": {
      "codemirror_mode": {
        "name": "python",
        "version": 3
      },
      "file_extension": ".py",
      "mimetype": "text/x-python",
      "name": "python",
      "nbconvert_exporter": "python",
      "pygments_lexer": "ipython3",
      "version": "3.8"
    }
  },
  "nbformat_minor": 4,
  "nbformat": 4,
  "cells": [
    {
      "cell_type": "markdown",
      "source": "<p style=\"text-align:center\">\n    <a href=\"https://skills.network/?utm_medium=Exinfluencer&utm_source=Exinfluencer&utm_content=000026UJ&utm_term=10006555&utm_id=NA-SkillsNetwork-Channel-SkillsNetworkCoursesIBMDeveloperSkillsNetworkST0151ENSkillsNetwork20531532-2022-01-01\" target=\"_blank\">\n    <img src=\"https://cf-courses-data.s3.us.cloud-object-storage.appdomain.cloud/assets/logos/SN_web_lightmode.png\" width=\"200\" alt=\"Skills Network Logo\"  />\n    </a>\n</p>\n\n",
      "metadata": {}
    },
    {
      "cell_type": "markdown",
      "source": "#### Import the required libraries we need for the lab.\n",
      "metadata": {}
    },
    {
      "cell_type": "code",
      "source": "import piplite\nawait piplite.install(['numpy'],['pandas'])\nawait piplite.install(['seaborn'])",
      "metadata": {
        "trusted": true
      },
      "outputs": [],
      "execution_count": 4
    },
    {
      "cell_type": "code",
      "source": "import pandas as pd\nimport pandas as pd\nimport seaborn as sns\nimport matplotlib.pyplot as pyplot\nimport scipy.stats\nimport statsmodels.api as sm\nfrom statsmodels.formula.api import ols",
      "metadata": {},
      "outputs": [],
      "execution_count": null
    },
    {
      "cell_type": "markdown",
      "source": "#### Read the dataset in the csv file from the URL\n",
      "metadata": {}
    },
    {
      "cell_type": "code",
      "source": "from js import fetch\nimport io\n\nURL = 'https://cf-courses-data.s3.us.cloud-object-storage.appdomain.cloud/IBMDeveloperSkillsNetwork-ST0151EN-SkillsNetwork/labs/boston_housing.csv'\nresp = await fetch(URL)\nboston_url = io.BytesIO((await resp.arrayBuffer()).to_py())",
      "metadata": {},
      "outputs": [],
      "execution_count": null
    },
    {
      "cell_type": "code",
      "source": "boston_df=pd.read_csv(boston_url)",
      "metadata": {},
      "outputs": [],
      "execution_count": null
    },
    {
      "cell_type": "markdown",
      "source": "#### Add your code below following the instructions given in the course to complete the peer graded assignment\n",
      "metadata": {}
    },
    {
      "cell_type": "code",
      "source": "## Task 2",
      "metadata": {
        "trusted": true
      },
      "outputs": [],
      "execution_count": null
    },
    {
      "cell_type": "code",
      "source": "# 1. Boxplot for Median Value of Owner-Occupied Homes\nplt.figure(figsize=(8, 6))\nsns.boxplot(x=df['MEDV'])\nplt.title('Boxplot of Median Value of Owner-Occupied Homes')\nplt.xlabel('Median Value of Owner-Occupied Homes ($1000s)')\nplt.show()\n\n# 2. Bar Plot for Charles River Variable\nplt.figure(figsize=(8, 6))\nsns.countplot(x='CHAS', data=df)\nplt.title('Countplot of Houses on Charles River')\nplt.xlabel('On Charles River (1) or Not (0)')\nplt.ylabel('Count')\nplt.show()\n\n# 3. Boxplot for MEDV vs AGE\n# Discretize the AGE variable\ndf['AGE_GROUP'] = pd.cut(df['AGE'], bins=[0, 35, 70, 100], labels=['35 and Younger', '35-70', '70 and Older'])\n\nplt.figure(figsize=(8, 6))\nsns.boxplot(x='AGE_GROUP', y='MEDV', data=df)\nplt.title('Boxplot of MEDV vs AGE Groups')\nplt.xlabel('Age Group')   \n\nplt.ylabel('Median Value of Owner-Occupied Homes ($1000s)')\nplt.show()\n\n# 4. Scatter Plot for NOX vs INDUS\nplt.figure(figsize=(8, 6))\nsns.scatterplot(x='NOX', y='INDUS', data=df)\nplt.title('Scatter Plot of NOX vs INDUS')\nplt.xlabel('Nitric Oxide Concentration (parts per 10 million)')\nplt.ylabel('Proportion of Non-retail Business Acres per Town')\nplt.show()   \n\n\n# 5. Histogram for Pupil to Teacher Ratio\nplt.figure(figsize=(8, 6))\nsns.histplot(x='PTRATIO', data=df, kde=True)\nplt.title('Histogram of Pupil-Teacher Ratio')\nplt.xlabel('Pupil-Teacher Ratio')\nplt.ylabel('Count')\nplt.show()",
      "metadata": {
        "trusted": true
      },
      "outputs": [],
      "execution_count": null
    },
    {
      "cell_type": "code",
      "source": "## Task 3",
      "metadata": {
        "trusted": true
      },
      "outputs": [],
      "execution_count": null
    },
    {
      "cell_type": "markdown",
      "source": "from scipy.stats import ttest_ind\n\n# Filter data based on Charles River\nriver_houses = df[df['CHAS'] == 1]['MEDV']\nnon_river_houses = df[df['CHAS'] == 0]['MEDV']\n\nt_stat, p_value = ttest_ind(river_houses, non_river_houses)\n\nprint(\"t-statistic:\", t_stat)\nprint(\"p-value:\", p_value)\n\nif p_value < 0.05:\n    print(\"Reject H₀: There is a significant difference in median values.\")\nelse:\n    print(\"Fail to reject H₀: There is no significant difference in median values.\")",
      "metadata": {}
    },
    {
      "cell_type": "code",
      "source": "from scipy.stats import f_oneway\n\n# Group data based on age groups\ngroup1 = df[df['AGE_GROUP'] == '35 and Younger']['MEDV']\ngroup2 = df[df['AGE_GROUP'] == '35-70']['MEDV']\ngroup3 = df[df['AGE_GROUP'] == '70 and Older']['MEDV']\n\nf_stat, p_value = f_oneway(group1, group2, group3)\n\nprint(\"F-statistic:\", f_stat)\nprint(\"p-value:\", p_value)\n\nif p_value < 0.05:\n    print(\"Reject H₀: There is a significant difference in median values across age groups.\")\nelse:\n    print(\"Fail to reject H₀: There is no significant difference in median values across age groups.\")",
      "metadata": {
        "trusted": true
      },
      "outputs": [],
      "execution_count": null
    },
    {
      "cell_type": "code",
      "source": "from scipy.stats import pearsonr\n\ncorr, p_value = pearsonr(df['NOX'], df['INDUS'])\n\nprint(\"Pearson correlation coefficient:\", corr)\nprint(\"p-value:\", p_value)\n\nif p_value < 0.05:\n    print(\"Reject H₀: There is a significant linear correlation between NOX and INDUS.\")\nelse:\n    print(\"Fail to reject H₀: There is no significant linear correlation between NOX and INDUS.\")",
      "metadata": {
        "trusted": true
      },
      "outputs": [],
      "execution_count": null
    },
    {
      "cell_type": "code",
      "source": "import statsmodels.api as sm\n\nX = df[['DIS']]\nX = sm.add_constant(X)\ny = df['MEDV']\n\nmodel = sm.OLS(y, X).fit()\nprint(model.summary())",
      "metadata": {
        "trusted": true
      },
      "outputs": [],
      "execution_count": null
    }
  ]
}